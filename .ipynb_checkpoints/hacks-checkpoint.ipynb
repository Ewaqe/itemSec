{
 "cells": [
  {
   "cell_type": "code",
   "execution_count": 170,
   "id": "c89ea2bf-1fae-4ff9-b798-a84127c6018d",
   "metadata": {},
   "outputs": [],
   "source": [
    "import pymorphy3\n",
    "import nltk\n",
    "from nltk.tokenize import sent_tokenize, word_tokenize\n",
    "from nltk.corpus import stopwords\n",
    "\n",
    "morph = pymorphy3.MorphAnalyzer()\n",
    "stop_words = stopwords.words(\"russian\")\n",
    "\n",
    "def preprocess(text: str) -> list:\n",
    "    tokens = word_tokenize(text, language=\"russian\")\n",
    "    \n",
    "    filtered_tokens = list()\n",
    "    for token in tokens:\n",
    "        if token not in stop_words:\n",
    "            filtered_tokens.append(morph.parse(token)[0].normal_form)\n",
    "\n",
    "    return filtered_tokens"
   ]
  },
  {
   "cell_type": "code",
   "execution_count": 171,
   "id": "2541454e-c2bd-4f80-a2a4-2293fd34bcfe",
   "metadata": {},
   "outputs": [],
   "source": [
    "from navec import Navec\n",
    "\n",
    "path = 'navec_hudlit_v1_12B_500K_300d_100q.tar'\n",
    "navec = Navec.load(path)"
   ]
  },
  {
   "cell_type": "code",
   "execution_count": 172,
   "id": "0694f2ce-d395-41fd-a90a-505e579a06c8",
   "metadata": {},
   "outputs": [],
   "source": [
    "import numpy as np\n",
    "\n",
    "def embed(tokens):\n",
    "    \"\"\"Return the centroid of the embeddings for the given tokens.\n",
    "\n",
    "    Out-of-vocabulary tokens are cast aside. Stop words are also\n",
    "    discarded. An array of 0s is returned if none of the tokens\n",
    "    are valid.\n",
    "\n",
    "    \"\"\"\n",
    "\n",
    "    vectors = np.array([navec[token] for token in tokens if token in navec])\n",
    "\n",
    "    if len(vectors) > 0:\n",
    "        centroid = vectors.mean(axis=0)\n",
    "    else:\n",
    "        width = navec.pq.dim\n",
    "        centroid = np.zeros(width)\n",
    "\n",
    "    return centroid"
   ]
  },
  {
   "cell_type": "code",
   "execution_count": 173,
   "id": "456a7dc9-0bc7-48a3-8e0e-8bd4ddedc26d",
   "metadata": {},
   "outputs": [],
   "source": [
    "import pandas as pd\n",
    "\n",
    "df = pd.read_csv('standarts.csv')\n",
    "\n",
    "# label_names = list(df['Группа продукции'].unique())\n",
    "# print(label_names)\n",
    "label_names = ['Изделия для ухода за детьми', 'Соски молочные, соски-пустышки и изделия санитарно-гигиенические из латекса, резины и силиконовых эластомеров', 'Посуда и столовые приборы из пластмассы', 'Посуда и столовые приборы из стекла, стеклокерамики, керамики', 'Посуда и столовые приборы из металла, изделия санитарно-гигиенические из металла', 'Посуда из бумаги и картона (одноразового применения)', 'Изделия санитарно-гигиенические и галантерейные из пластмассы', 'Щетки зубные, массажеры для десен и аналогичные изделия, предназначенные для ухода за полостью рта', 'Изделия санитарно-гигиенические разового использования', 'Обувь', 'Кожгалантерейные изделия', 'Коляски детские', 'Велосипеды', 'Издательская (книжная и журнальная) продукция', 'Школьно-письменные принадлежности']\n",
    "combined_labels = ['Обувь', 'Кожгалантерейные изделия', 'Коляски детские', 'Велосипеды']"
   ]
  },
  {
   "cell_type": "code",
   "execution_count": 174,
   "id": "f09151d2-05a9-447b-9986-708719a914fe",
   "metadata": {},
   "outputs": [],
   "source": [
    "label_vectors = np.asarray([\n",
    "    embed(preprocess(label)) for label in label_names\n",
    "])"
   ]
  },
  {
   "cell_type": "code",
   "execution_count": 175,
   "id": "a52cf24e-499d-4f4a-be88-57e3fd54d5a7",
   "metadata": {},
   "outputs": [],
   "source": [
    "from sklearn import neighbors\n",
    "\n",
    "df = pd.read_csv('dataset.csv')\n",
    "\n",
    "nn = neighbors.NearestNeighbors(n_neighbors=1, algorithm=\"brute\")\n",
    "nn.fit(label_vectors)\n",
    "def get_item_groups(item_name: str) -> list:\n",
    "    nearest_group = label_names[nn.kneighbors([embed(preprocess(item_name))], return_distance=False)[0, 0]]\n",
    "    item_groups = [nearest_group]\n",
    "    if nearest_group in combined_labels:\n",
    "        item_groups.append('Одежда и изделия из текстильных материалов, меха, изделия трикотажные, готовые штучные текстильные изделия, обувь, кожгалантерейные изделия, коляски детские и велосипеды')\n",
    "    if nearest_group in ['Обувь', 'Коляски детские', 'Кожгалантерейные изделия']:\n",
    "        item_groups.append('Одежда, изделия из текстильных материалов и меха, трикотажные изделия, готовые штучные текстильные изделия и текстильные материалы, используемые для изготовления обуви, одежды и изделий из кожи, кожгалантерейных изделий и колясок')\n",
    "    if nearest_group == 'Обувь' or nearest_group == 'Кожгалантерейные изделия':\n",
    "        item_groups.append('Изделия из кожи, кожгалантерейные изделия и обувь')\n",
    "    return item_groups"
   ]
  },
  {
   "cell_type": "code",
   "execution_count": 176,
   "id": "4d22d968-227c-4ce8-8450-886aea9716be",
   "metadata": {},
   "outputs": [],
   "source": [
    "import glob\n",
    "from pathlib import Path\n",
    "\n",
    "files = glob.glob(\"./standarts/*\")\n",
    "standarts = [(Path(file).stem).replace('\\xa0', ' ')[:30] for file in files]"
   ]
  },
  {
   "cell_type": "code",
   "execution_count": 177,
   "id": "0197b3db-62a1-4de9-b2b7-4bc57f5139e5",
   "metadata": {},
   "outputs": [],
   "source": [
    "df_standarts = pd.read_csv('standarts.csv')\n",
    "df_standarts['new_standart'] = df_standarts['Обозначение и наименование стандарта'].str.replace('\"', '')\n",
    "possible_standarts = df_standarts.loc[df_standarts['new_standart'].str[:30].isin(standarts)]"
   ]
  },
  {
   "cell_type": "code",
   "execution_count": 178,
   "id": "617867d8-4799-45e7-baf4-acab2c5fbb73",
   "metadata": {},
   "outputs": [
    {
     "name": "stdout",
     "output_type": "stream",
     "text": [
      "['Соски молочные, соски-пустышки и изделия санитарно-гигиенические из латекса, резины и силиконовых эластомеров']\n",
      "['ГОСТ 31870-2012 Вода питьевая. Определение содержания элементов методами атомной спектрометрии']\n"
     ]
    }
   ],
   "source": [
    "def is_equipment_match(name: str, equipment: str) -> bool:\n",
    "    equipment = equipment.split('; ')\n",
    "    groups = get_item_groups(name)\n",
    "    item_standarts = list()\n",
    "    print(groups)\n",
    "    for group in groups:\n",
    "        item_standarts.append(list(possible_standarts.loc[possible_standarts['Группа продукции'] == group]['new_standart'])[0])\n",
    "    print(item_standarts)\n",
    "is_equipment_match('Обувь детская (малодетская, дошкольная, для школьников-мальчиков, мальчиковая) с верхом из текстильных материалов, с подкладкой и вкладной стелькой из текстильного материала, с подошвой из резины, клеевого метода крепления, марка ', '')"
   ]
  },
  {
   "cell_type": "code",
   "execution_count": null,
   "id": "aa519e72-88a7-40ec-9a7b-a94111729b5d",
   "metadata": {},
   "outputs": [],
   "source": []
  }
 ],
 "metadata": {
  "kernelspec": {
   "display_name": "itemSec",
   "language": "python",
   "name": "itemsec"
  },
  "language_info": {
   "codemirror_mode": {
    "name": "ipython",
    "version": 3
   },
   "file_extension": ".py",
   "mimetype": "text/x-python",
   "name": "python",
   "nbconvert_exporter": "python",
   "pygments_lexer": "ipython3",
   "version": "3.11.5"
  }
 },
 "nbformat": 4,
 "nbformat_minor": 5
}
